{
 "cells": [
  {
   "cell_type": "markdown",
   "id": "f220c661-9995-4567-b091-3ddffdfd7f22",
   "metadata": {},
   "source": [
    "# Data Science Tools and Ecosystem"
   ]
  },
  {
   "cell_type": "markdown",
   "id": "89818629-4bd6-4862-9294-129810f70c0c",
   "metadata": {},
   "source": [
    "This notebook briefly summarizes Data Science tools and ecosystems"
   ]
  },
  {
   "cell_type": "markdown",
   "id": "0d4b7138-de43-488f-b95b-ceb39c525d38",
   "metadata": {},
   "source": [
    "__Objectives:__\n",
    "+ List common languages in Data Science\n",
    "+ Name popular libraries used by Data Scientists\n",
    "+ Show useful tools for Data Science\n",
    "+ Illustrate some basic arithmetic expressions"
   ]
  },
  {
   "cell_type": "markdown",
   "id": "fa7205f4-e981-44e8-9745-e3add42d0fec",
   "metadata": {},
   "source": [
    "Some of the popular languages used in Data Science are:\n",
    "1. R\n",
    "2. Python\n",
    "3. SQL\n",
    "4. Java\n",
    "5. Julia\n",
    "6. Scala\n",
    "7. JavaScript"
   ]
  },
  {
   "cell_type": "markdown",
   "id": "1fc550c1-314e-4521-8525-3e22d1b8a7f7",
   "metadata": {},
   "source": [
    "Data Science commonly uses the following libraries:\n",
    "1. NumPy\n",
    "2. Pandas\n",
    "3. Scikit-learn\n",
    "4. TensorFlow\n",
    "5. Apache Spark\n",
    "6. ggplot2"
   ]
  },
  {
   "cell_type": "markdown",
   "id": "ad339cb6-8e9c-4dd2-8d67-ddc483faa768",
   "metadata": {},
   "source": [
    "|Data Science Tools|\n",
    "|------|\n",
    "|Jupyter|\n",
    "|RStudio|\n",
    "|Spyder| \n"
   ]
  },
  {
   "cell_type": "markdown",
   "id": "9feed2cd-5222-4fa3-83bb-af45efc618b6",
   "metadata": {},
   "source": [
    " "
   ]
  },
  {
   "cell_type": "markdown",
   "id": "68c96e75-e2bf-4cbe-ba81-630e435cf07a",
   "metadata": {},
   "source": [
    "### Examples of arithmetic expressions in Python"
   ]
  },
  {
   "cell_type": "code",
   "execution_count": 15,
   "id": "0cf3f41e-5891-4d66-9be3-d9bde1df4953",
   "metadata": {},
   "outputs": [
    {
     "data": {
      "text/plain": [
       "17"
      ]
     },
     "execution_count": 15,
     "metadata": {},
     "output_type": "execute_result"
    }
   ],
   "source": [
    "# An arithmetic expression to multiply then add integers\n",
    "\n",
    "(3*4)+5"
   ]
  },
  {
   "cell_type": "code",
   "execution_count": 43,
   "id": "0a7c3c59-1cc7-4c70-b8d2-1513a30461b1",
   "metadata": {},
   "outputs": [
    {
     "name": "stdout",
     "output_type": "stream",
     "text": [
      "200 minutes equals 3 hours, 20 minutes.\n"
     ]
    }
   ],
   "source": [
    "# An expression that converts minutes to hours by dividing by 60\n",
    "\n",
    "total_minutes = 200\n",
    "hours, minutes = divmod(total_minutes, 60)\n",
    "print(f\"{total_minutes} minutes equals {hours} hours, {minutes} minutes.\")"
   ]
  },
  {
   "cell_type": "markdown",
   "id": "d065bd10-a84f-496f-a329-0414faa665cb",
   "metadata": {},
   "source": [
    "## Author\n",
    "Tiffini Oman"
   ]
  },
  {
   "cell_type": "markdown",
   "id": "16e0a461-ddbb-474b-9eab-d7de6c6d9aa7",
   "metadata": {},
   "source": []
  }
 ],
 "metadata": {
  "kernelspec": {
   "display_name": "Python [conda env:base] *",
   "language": "python",
   "name": "conda-base-py"
  },
  "language_info": {
   "codemirror_mode": {
    "name": "ipython",
    "version": 3
   },
   "file_extension": ".py",
   "mimetype": "text/x-python",
   "name": "python",
   "nbconvert_exporter": "python",
   "pygments_lexer": "ipython3",
   "version": "3.12.7"
  }
 },
 "nbformat": 4,
 "nbformat_minor": 5
}
